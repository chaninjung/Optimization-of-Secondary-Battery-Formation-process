{
 "cells": [
  {
   "cell_type": "code",
   "execution_count": 2,
   "id": "8c0207f3",
   "metadata": {},
   "outputs": [],
   "source": [
    "# 데이터 구성:Series, DataFrame\n",
    "import pandas as pd\n",
    "# 행렬 연산\n",
    "import numpy as np\n",
    "# 데이터 시각화\n",
    "import matplotlib.pyplot as plt\n",
    "import matplotlib\n",
    "# scaling\n",
    "from sklearn.preprocessing import StandardScaler\n",
    "# 데이터 분할:train, test\n",
    "from sklearn.model_selection import train_test_split\n",
    "# 로지스틱 회귀\n",
    "from statsmodels.api import Logit\n",
    "# 분류모델 평가 함수\n",
    "from sklearn.metrics import accuracy_score, f1_score \n",
    "from sklearn.metrics import confusion_matrix, classification_report"
   ]
  },
  {
   "cell_type": "code",
   "execution_count": 3,
   "id": "b5d2dd2a",
   "metadata": {},
   "outputs": [],
   "source": [
    "import matplotlib.pyplot as plt\n",
    "# 글꼴 적용\n",
    "plt.rc('font', family = 'NanumBarunGothic')\n",
    "# 음수 표시\n",
    "matplotlib.rc('axes', unicode_minus=False)"
   ]
  },
  {
   "cell_type": "code",
   "execution_count": 12,
   "id": "7bb328b4",
   "metadata": {},
   "outputs": [
    {
     "data": {
      "text/html": [
       "<div>\n",
       "<style scoped>\n",
       "    .dataframe tbody tr th:only-of-type {\n",
       "        vertical-align: middle;\n",
       "    }\n",
       "\n",
       "    .dataframe tbody tr th {\n",
       "        vertical-align: top;\n",
       "    }\n",
       "\n",
       "    .dataframe thead th {\n",
       "        text-align: right;\n",
       "    }\n",
       "</style>\n",
       "<table border=\"1\" class=\"dataframe\">\n",
       "  <thead>\n",
       "    <tr style=\"text-align: right;\">\n",
       "      <th></th>\n",
       "      <th>lot_id</th>\n",
       "      <th>tray_id</th>\n",
       "      <th>dt_start</th>\n",
       "      <th>cell_id</th>\n",
       "      <th>judge</th>\n",
       "      <th>rta1_cell_no</th>\n",
       "      <th>rta1_box_col</th>\n",
       "      <th>rta1_box_row</th>\n",
       "      <th>rta1_box_dan</th>\n",
       "      <th>hta1_box_col</th>\n",
       "      <th>...</th>\n",
       "      <th>ocv1_deltaocv</th>\n",
       "      <th>m1_thick</th>\n",
       "      <th>m1_voltage</th>\n",
       "      <th>m1_res_ac</th>\n",
       "      <th>m1_mv</th>\n",
       "      <th>m1_voltage_an</th>\n",
       "      <th>dt_start_old</th>\n",
       "      <th>sa4_box_row</th>\n",
       "      <th>sa4_box_col</th>\n",
       "      <th>sa4_box_dan</th>\n",
       "    </tr>\n",
       "  </thead>\n",
       "  <tbody>\n",
       "    <tr>\n",
       "      <th>0</th>\n",
       "      <td>LOT-100</td>\n",
       "      <td>TRAY-1023</td>\n",
       "      <td>01SEP2022:10:01:25</td>\n",
       "      <td>CELL-10747</td>\n",
       "      <td>양품</td>\n",
       "      <td>10</td>\n",
       "      <td>08열</td>\n",
       "      <td>33연</td>\n",
       "      <td>08단</td>\n",
       "      <td>03열</td>\n",
       "      <td>...</td>\n",
       "      <td>6.8</td>\n",
       "      <td>4718.0</td>\n",
       "      <td>37583.0</td>\n",
       "      <td>94.0</td>\n",
       "      <td>565.0</td>\n",
       "      <td>164.0</td>\n",
       "      <td>01SEP2020:10:01:25</td>\n",
       "      <td>07열</td>\n",
       "      <td>27연</td>\n",
       "      <td>03단</td>\n",
       "    </tr>\n",
       "    <tr>\n",
       "      <th>1</th>\n",
       "      <td>LOT-100</td>\n",
       "      <td>TRAY-1023</td>\n",
       "      <td>01SEP2022:10:01:25</td>\n",
       "      <td>CELL-10748</td>\n",
       "      <td>양품</td>\n",
       "      <td>7</td>\n",
       "      <td>08열</td>\n",
       "      <td>33연</td>\n",
       "      <td>08단</td>\n",
       "      <td>03열</td>\n",
       "      <td>...</td>\n",
       "      <td>6.8</td>\n",
       "      <td>4718.0</td>\n",
       "      <td>37574.0</td>\n",
       "      <td>94.0</td>\n",
       "      <td>565.0</td>\n",
       "      <td>73.0</td>\n",
       "      <td>01SEP2020:10:01:25</td>\n",
       "      <td>07열</td>\n",
       "      <td>27연</td>\n",
       "      <td>03단</td>\n",
       "    </tr>\n",
       "    <tr>\n",
       "      <th>2</th>\n",
       "      <td>LOT-100</td>\n",
       "      <td>TRAY-1023</td>\n",
       "      <td>01SEP2022:10:01:25</td>\n",
       "      <td>CELL-10749</td>\n",
       "      <td>양품</td>\n",
       "      <td>19</td>\n",
       "      <td>08열</td>\n",
       "      <td>33연</td>\n",
       "      <td>08단</td>\n",
       "      <td>03열</td>\n",
       "      <td>...</td>\n",
       "      <td>6.9</td>\n",
       "      <td>4700.0</td>\n",
       "      <td>37579.0</td>\n",
       "      <td>91.0</td>\n",
       "      <td>585.0</td>\n",
       "      <td>-57.0</td>\n",
       "      <td>01SEP2020:10:01:25</td>\n",
       "      <td>07열</td>\n",
       "      <td>27연</td>\n",
       "      <td>03단</td>\n",
       "    </tr>\n",
       "    <tr>\n",
       "      <th>3</th>\n",
       "      <td>LOT-100</td>\n",
       "      <td>TRAY-1023</td>\n",
       "      <td>01SEP2022:10:01:25</td>\n",
       "      <td>CELL-10750</td>\n",
       "      <td>양품</td>\n",
       "      <td>24</td>\n",
       "      <td>08열</td>\n",
       "      <td>33연</td>\n",
       "      <td>08단</td>\n",
       "      <td>03열</td>\n",
       "      <td>...</td>\n",
       "      <td>6.9</td>\n",
       "      <td>4688.0</td>\n",
       "      <td>37583.0</td>\n",
       "      <td>93.0</td>\n",
       "      <td>606.0</td>\n",
       "      <td>99.0</td>\n",
       "      <td>01SEP2020:10:01:25</td>\n",
       "      <td>07열</td>\n",
       "      <td>27연</td>\n",
       "      <td>03단</td>\n",
       "    </tr>\n",
       "    <tr>\n",
       "      <th>4</th>\n",
       "      <td>LOT-100</td>\n",
       "      <td>TRAY-1023</td>\n",
       "      <td>01SEP2022:10:01:25</td>\n",
       "      <td>CELL-10751</td>\n",
       "      <td>양품</td>\n",
       "      <td>17</td>\n",
       "      <td>08열</td>\n",
       "      <td>33연</td>\n",
       "      <td>08단</td>\n",
       "      <td>03열</td>\n",
       "      <td>...</td>\n",
       "      <td>6.8</td>\n",
       "      <td>4696.0</td>\n",
       "      <td>37570.0</td>\n",
       "      <td>91.0</td>\n",
       "      <td>605.0</td>\n",
       "      <td>36.0</td>\n",
       "      <td>01SEP2020:10:01:25</td>\n",
       "      <td>07열</td>\n",
       "      <td>27연</td>\n",
       "      <td>03단</td>\n",
       "    </tr>\n",
       "  </tbody>\n",
       "</table>\n",
       "<p>5 rows × 113 columns</p>\n",
       "</div>"
      ],
      "text/plain": [
       "    lot_id    tray_id            dt_start     cell_id judge  rta1_cell_no  \\\n",
       "0  LOT-100  TRAY-1023  01SEP2022:10:01:25  CELL-10747    양품            10   \n",
       "1  LOT-100  TRAY-1023  01SEP2022:10:01:25  CELL-10748    양품             7   \n",
       "2  LOT-100  TRAY-1023  01SEP2022:10:01:25  CELL-10749    양품            19   \n",
       "3  LOT-100  TRAY-1023  01SEP2022:10:01:25  CELL-10750    양품            24   \n",
       "4  LOT-100  TRAY-1023  01SEP2022:10:01:25  CELL-10751    양품            17   \n",
       "\n",
       "  rta1_box_col rta1_box_row rta1_box_dan hta1_box_col  ... ocv1_deltaocv  \\\n",
       "0          08열          33연          08단          03열  ...           6.8   \n",
       "1          08열          33연          08단          03열  ...           6.8   \n",
       "2          08열          33연          08단          03열  ...           6.9   \n",
       "3          08열          33연          08단          03열  ...           6.9   \n",
       "4          08열          33연          08단          03열  ...           6.8   \n",
       "\n",
       "  m1_thick m1_voltage m1_res_ac  m1_mv  m1_voltage_an        dt_start_old  \\\n",
       "0   4718.0    37583.0      94.0  565.0          164.0  01SEP2020:10:01:25   \n",
       "1   4718.0    37574.0      94.0  565.0           73.0  01SEP2020:10:01:25   \n",
       "2   4700.0    37579.0      91.0  585.0          -57.0  01SEP2020:10:01:25   \n",
       "3   4688.0    37583.0      93.0  606.0           99.0  01SEP2020:10:01:25   \n",
       "4   4696.0    37570.0      91.0  605.0           36.0  01SEP2020:10:01:25   \n",
       "\n",
       "  sa4_box_row  sa4_box_col  sa4_box_dan  \n",
       "0         07열          27연          03단  \n",
       "1         07열          27연          03단  \n",
       "2         07열          27연          03단  \n",
       "3         07열          27연          03단  \n",
       "4         07열          27연          03단  \n",
       "\n",
       "[5 rows x 113 columns]"
      ]
     },
     "execution_count": 12,
     "metadata": {},
     "output_type": "execute_result"
    }
   ],
   "source": [
    "df_raw = pd.read_csv(\"/home/piai/바탕화면/빅데이터_이차전지/bat_process.csv\")\n",
    "df_raw.head()"
   ]
  },
  {
   "cell_type": "code",
   "execution_count": 13,
   "id": "9c1a43f9",
   "metadata": {},
   "outputs": [
    {
     "data": {
      "text/html": [
       "<div>\n",
       "<style scoped>\n",
       "    .dataframe tbody tr th:only-of-type {\n",
       "        vertical-align: middle;\n",
       "    }\n",
       "\n",
       "    .dataframe tbody tr th {\n",
       "        vertical-align: top;\n",
       "    }\n",
       "\n",
       "    .dataframe thead th {\n",
       "        text-align: right;\n",
       "    }\n",
       "</style>\n",
       "<table border=\"1\" class=\"dataframe\">\n",
       "  <thead>\n",
       "    <tr style=\"text-align: right;\">\n",
       "      <th></th>\n",
       "      <th>c1_temp_avg</th>\n",
       "      <th>judge</th>\n",
       "    </tr>\n",
       "  </thead>\n",
       "  <tbody>\n",
       "    <tr>\n",
       "      <th>0</th>\n",
       "      <td>268</td>\n",
       "      <td>양품</td>\n",
       "    </tr>\n",
       "    <tr>\n",
       "      <th>1</th>\n",
       "      <td>268</td>\n",
       "      <td>양품</td>\n",
       "    </tr>\n",
       "    <tr>\n",
       "      <th>2</th>\n",
       "      <td>268</td>\n",
       "      <td>양품</td>\n",
       "    </tr>\n",
       "    <tr>\n",
       "      <th>3</th>\n",
       "      <td>268</td>\n",
       "      <td>양품</td>\n",
       "    </tr>\n",
       "    <tr>\n",
       "      <th>4</th>\n",
       "      <td>268</td>\n",
       "      <td>양품</td>\n",
       "    </tr>\n",
       "    <tr>\n",
       "      <th>...</th>\n",
       "      <td>...</td>\n",
       "      <td>...</td>\n",
       "    </tr>\n",
       "    <tr>\n",
       "      <th>44073</th>\n",
       "      <td>255</td>\n",
       "      <td>양품</td>\n",
       "    </tr>\n",
       "    <tr>\n",
       "      <th>44074</th>\n",
       "      <td>255</td>\n",
       "      <td>양품</td>\n",
       "    </tr>\n",
       "    <tr>\n",
       "      <th>44075</th>\n",
       "      <td>255</td>\n",
       "      <td>양품</td>\n",
       "    </tr>\n",
       "    <tr>\n",
       "      <th>44076</th>\n",
       "      <td>255</td>\n",
       "      <td>양품</td>\n",
       "    </tr>\n",
       "    <tr>\n",
       "      <th>44077</th>\n",
       "      <td>255</td>\n",
       "      <td>불량</td>\n",
       "    </tr>\n",
       "  </tbody>\n",
       "</table>\n",
       "<p>44078 rows × 2 columns</p>\n",
       "</div>"
      ],
      "text/plain": [
       "       c1_temp_avg judge\n",
       "0              268    양품\n",
       "1              268    양품\n",
       "2              268    양품\n",
       "3              268    양품\n",
       "4              268    양품\n",
       "...            ...   ...\n",
       "44073          255    양품\n",
       "44074          255    양품\n",
       "44075          255    양품\n",
       "44076          255    양품\n",
       "44077          255    불량\n",
       "\n",
       "[44078 rows x 2 columns]"
      ]
     },
     "execution_count": 13,
     "metadata": {},
     "output_type": "execute_result"
    }
   ],
   "source": [
    "df_c1 = df_raw[['c1_temp_avg', 'judge']]\n",
    "df_c1"
   ]
  },
  {
   "cell_type": "markdown",
   "id": "94b12e4a",
   "metadata": {},
   "source": [
    "## 온도 Chi"
   ]
  },
  {
   "cell_type": "code",
   "execution_count": 14,
   "id": "73015cec",
   "metadata": {},
   "outputs": [
    {
     "name": "stdout",
     "output_type": "stream",
     "text": [
      "Chi-Square Value: 3704.3454919828937\n",
      "P-value: 0.0\n",
      "귀무가설을 기각합니다. 'c1_temp_avg'와 'judge'는 관련이 있습니다.\n"
     ]
    }
   ],
   "source": [
    "from scipy.stats import chi2_contingency\n",
    "\n",
    "# df_c1 데이터프레임에서 'c1_temp_avg'와 'judge' 열을 교차표로 만듭니다.\n",
    "cross_tab = pd.crosstab(df_c1['c1_temp_avg'], df_c1['judge'])\n",
    "\n",
    "# 카이제곱 검정을 수행합니다.\n",
    "chi2, p, _, _ = chi2_contingency(cross_tab)\n",
    "\n",
    "# 결과 출력\n",
    "print(f\"Chi-Square Value: {chi2}\")\n",
    "print(f\"P-value: {p}\")\n",
    "\n",
    "# 유의수준 0.05에서의 검정 결과를 해석합니다.\n",
    "alpha = 0.05\n",
    "if p < alpha:\n",
    "    print(\"귀무가설을 기각합니다. 'c1_temp_avg'와 'judge'는 관련이 있습니다.\")\n",
    "else:\n",
    "    print(\"귀무가설을 기각하지 못합니다. 'c1_temp_avg'와 'judge'는 관련이 없습니다.\")"
   ]
  },
  {
   "cell_type": "code",
   "execution_count": 16,
   "id": "df8368aa",
   "metadata": {},
   "outputs": [
    {
     "name": "stdout",
     "output_type": "stream",
     "text": [
      "Chi-Square Value: 3968.864600254583\n",
      "P-value: 0.0\n",
      "귀무가설을 기각합니다. 'dc1_temp_avg'와 'judge'는 관련이 있습니다.\n"
     ]
    }
   ],
   "source": [
    "from scipy.stats import chi2_contingency\n",
    "\n",
    "# df_c1 데이터프레임에서 'c1_temp_avg'와 'judge' 열을 교차표로 만듭니다.\n",
    "cross_tab = pd.crosstab(df_raw['dc1_temp_avg'], df_raw['judge'])\n",
    "\n",
    "# 카이제곱 검정을 수행합니다.\n",
    "chi2, p, _, _ = chi2_contingency(cross_tab)\n",
    "\n",
    "# 결과 출력\n",
    "print(f\"Chi-Square Value: {chi2}\")\n",
    "print(f\"P-value: {p}\")\n",
    "\n",
    "# 유의수준 0.05에서의 검정 결과를 해석합니다.\n",
    "alpha = 0.05\n",
    "if p < alpha:\n",
    "    print(\"귀무가설을 기각합니다. 'dc1_temp_avg'와 'judge'는 관련이 있습니다.\")\n",
    "else:\n",
    "    print(\"귀무가설을 기각하지 못합니다. 'dc1_temp_avg'와 'judge'는 관련이 없습니다.\")"
   ]
  },
  {
   "cell_type": "code",
   "execution_count": 18,
   "id": "e6fb863c",
   "metadata": {},
   "outputs": [
    {
     "name": "stdout",
     "output_type": "stream",
     "text": [
      "Chi-Square Value: 4001.0882980757497\n",
      "P-value: 0.0\n",
      "귀무가설을 기각합니다. 'c2_temp_avg'와 'judge'는 관련이 있습니다.\n"
     ]
    }
   ],
   "source": [
    "from scipy.stats import chi2_contingency\n",
    "\n",
    "# df_c1 데이터프레임에서 'c1_temp_avg'와 'judge' 열을 교차표로 만듭니다.\n",
    "cross_tab = pd.crosstab(df_raw['c2_temp_avg'], df_raw['judge'])\n",
    "\n",
    "# 카이제곱 검정을 수행합니다.\n",
    "chi2, p, _, _ = chi2_contingency(cross_tab)\n",
    "\n",
    "# 결과 출력\n",
    "print(f\"Chi-Square Value: {chi2}\")\n",
    "print(f\"P-value: {p}\")\n",
    "\n",
    "# 유의수준 0.05에서의 검정 결과를 해석합니다.\n",
    "alpha = 0.05\n",
    "if p < alpha:\n",
    "    print(\"귀무가설을 기각합니다. 'c2_temp_avg'와 'judge'는 관련이 있습니다.\")\n",
    "else:\n",
    "    print(\"귀무가설을 기각하지 못합니다. 'c2_temp_avg'와 'judge'는 관련이 없습니다.\")"
   ]
  },
  {
   "cell_type": "code",
   "execution_count": 19,
   "id": "1469e0d4",
   "metadata": {},
   "outputs": [
    {
     "name": "stdout",
     "output_type": "stream",
     "text": [
      "Chi-Square Value: 3798.2777358431176\n",
      "P-value: 0.0\n",
      "귀무가설을 기각합니다. 'dc2_temp_avg'와 'judge'는 관련이 있습니다.\n"
     ]
    }
   ],
   "source": [
    "from scipy.stats import chi2_contingency\n",
    "\n",
    "# df_c1 데이터프레임에서 'c1_temp_avg'와 'judge' 열을 교차표로 만듭니다.\n",
    "cross_tab = pd.crosstab(df_raw['dc2_temp_avg'], df_raw['judge'])\n",
    "\n",
    "# 카이제곱 검정을 수행합니다.\n",
    "chi2, p, _, _ = chi2_contingency(cross_tab)\n",
    "\n",
    "# 결과 출력\n",
    "print(f\"Chi-Square Value: {chi2}\")\n",
    "print(f\"P-value: {p}\")\n",
    "\n",
    "# 유의수준 0.05에서의 검정 결과를 해석합니다.\n",
    "alpha = 0.05\n",
    "if p < alpha:\n",
    "    print(\"귀무가설을 기각합니다. 'dc2_temp_avg'와 'judge'는 관련이 있습니다.\")\n",
    "else:\n",
    "    print(\"귀무가설을 기각하지 못합니다. 'dc2_temp_avg'와 'judge'는 관련이 없습니다.\")"
   ]
  },
  {
   "cell_type": "code",
   "execution_count": 20,
   "id": "f398982c",
   "metadata": {},
   "outputs": [
    {
     "name": "stdout",
     "output_type": "stream",
     "text": [
      "Chi-Square Value: 3708.9051868385277\n",
      "P-value: 0.0\n",
      "귀무가설을 기각합니다. 'c3_temp_avg'와 'judge'는 관련이 있습니다.\n"
     ]
    }
   ],
   "source": [
    "from scipy.stats import chi2_contingency\n",
    "\n",
    "# df_c1 데이터프레임에서 'c1_temp_avg'와 'judge' 열을 교차표로 만듭니다.\n",
    "cross_tab = pd.crosstab(df_raw['c3_temp_avg'], df_raw['judge'])\n",
    "\n",
    "# 카이제곱 검정을 수행합니다.\n",
    "chi2, p, _, _ = chi2_contingency(cross_tab)\n",
    "\n",
    "# 결과 출력\n",
    "print(f\"Chi-Square Value: {chi2}\")\n",
    "print(f\"P-value: {p}\")\n",
    "\n",
    "# 유의수준 0.05에서의 검정 결과를 해석합니다.\n",
    "alpha = 0.05\n",
    "if p < alpha:\n",
    "    print(\"귀무가설을 기각합니다. 'c3_temp_avg'와 'judge'는 관련이 있습니다.\")\n",
    "else:\n",
    "    print(\"귀무가설을 기각하지 못합니다. 'c3_temp_avg'와 'judge'는 관련이 없습니다.\")"
   ]
  },
  {
   "cell_type": "code",
   "execution_count": 21,
   "id": "bca03217",
   "metadata": {},
   "outputs": [
    {
     "name": "stdout",
     "output_type": "stream",
     "text": [
      "Chi-Square Value: 3444.571489571204\n",
      "P-value: 0.0\n",
      "귀무가설을 기각합니다. 'dc3_temp_avg'와 'judge'는 관련이 있습니다.\n"
     ]
    }
   ],
   "source": [
    "from scipy.stats import chi2_contingency\n",
    "\n",
    "# df_c1 데이터프레임에서 'c1_temp_avg'와 'judge' 열을 교차표로 만듭니다.\n",
    "cross_tab = pd.crosstab(df_raw['dc3_temp_avg'], df_raw['judge'])\n",
    "\n",
    "# 카이제곱 검정을 수행합니다.\n",
    "chi2, p, _, _ = chi2_contingency(cross_tab)\n",
    "\n",
    "# 결과 출력\n",
    "print(f\"Chi-Square Value: {chi2}\")\n",
    "print(f\"P-value: {p}\")\n",
    "\n",
    "# 유의수준 0.05에서의 검정 결과를 해석합니다.\n",
    "alpha = 0.05\n",
    "if p < alpha:\n",
    "    print(\"귀무가설을 기각합니다. 'dc3_temp_avg'와 'judge'는 관련이 있습니다.\")\n",
    "else:\n",
    "    print(\"귀무가설을 기각하지 못합니다. 'dc3_temp_avg'와 'judge'는 관련이 없습니다.\")"
   ]
  },
  {
   "cell_type": "code",
   "execution_count": 22,
   "id": "4ea1b834",
   "metadata": {},
   "outputs": [
    {
     "name": "stdout",
     "output_type": "stream",
     "text": [
      "Chi-Square Value: 3648.508043979463\n",
      "P-value: 0.0\n",
      "귀무가설을 기각합니다. 'c4_temp_avg'와 'judge'는 관련이 있습니다.\n"
     ]
    }
   ],
   "source": [
    "from scipy.stats import chi2_contingency\n",
    "\n",
    "# df_c1 데이터프레임에서 'c1_temp_avg'와 'judge' 열을 교차표로 만듭니다.\n",
    "cross_tab = pd.crosstab(df_raw['c4_temp_avg'], df_raw['judge'])\n",
    "\n",
    "# 카이제곱 검정을 수행합니다.\n",
    "chi2, p, _, _ = chi2_contingency(cross_tab)\n",
    "\n",
    "# 결과 출력\n",
    "print(f\"Chi-Square Value: {chi2}\")\n",
    "print(f\"P-value: {p}\")\n",
    "\n",
    "# 유의수준 0.05에서의 검정 결과를 해석합니다.\n",
    "alpha = 0.05\n",
    "if p < alpha:\n",
    "    print(\"귀무가설을 기각합니다. 'c4_temp_avg'와 'judge'는 관련이 있습니다.\")\n",
    "else:\n",
    "    print(\"귀무가설을 기각하지 못합니다. 'c4_temp_avg'와 'judge'는 관련이 없습니다.\")"
   ]
  },
  {
   "cell_type": "code",
   "execution_count": 23,
   "id": "2d9ef245",
   "metadata": {},
   "outputs": [
    {
     "name": "stdout",
     "output_type": "stream",
     "text": [
      "Chi-Square Value: 561.3474592779421\n",
      "P-value: 1.6336482083621786e-84\n",
      "귀무가설을 기각합니다. 'pg1_temp_avg'와 'judge'는 관련이 있습니다.\n"
     ]
    }
   ],
   "source": [
    "from scipy.stats import chi2_contingency\n",
    "\n",
    "# df_c1 데이터프레임에서 'c1_temp_avg'와 'judge' 열을 교차표로 만듭니다.\n",
    "cross_tab = pd.crosstab(df_raw['pg1_temp_avg'], df_raw['judge'])\n",
    "\n",
    "# 카이제곱 검정을 수행합니다.\n",
    "chi2, p, _, _ = chi2_contingency(cross_tab)\n",
    "\n",
    "# 결과 출력\n",
    "print(f\"Chi-Square Value: {chi2}\")\n",
    "print(f\"P-value: {p}\")\n",
    "\n",
    "# 유의수준 0.05에서의 검정 결과를 해석합니다.\n",
    "alpha = 0.05\n",
    "if p < alpha:\n",
    "    print(\"귀무가설을 기각합니다. 'pg1_temp_avg'와 'judge'는 관련이 있습니다.\")\n",
    "else:\n",
    "    print(\"귀무가설을 기각하지 못합니다. 'pg1_temp_avg'와 'judge'는 관련이 없습니다.\")"
   ]
  },
  {
   "cell_type": "markdown",
   "id": "a56f2a0b",
   "metadata": {},
   "source": [
    "## 전압 Chi"
   ]
  },
  {
   "cell_type": "code",
   "execution_count": 24,
   "id": "3a2fab40",
   "metadata": {},
   "outputs": [
    {
     "name": "stdout",
     "output_type": "stream",
     "text": [
      "Chi-Square Value: 131.6708452915709\n",
      "P-value: 0.0004162059124802646\n",
      "귀무가설을 기각합니다. 'ocv1_ocv'와 'judge'는 관련이 있습니다.\n"
     ]
    }
   ],
   "source": [
    "from scipy.stats import chi2_contingency\n",
    "\n",
    "# df_c1 데이터프레임에서 'c1_temp_avg'와 'judge' 열을 교차표로 만듭니다.\n",
    "cross_tab = pd.crosstab(df_raw['ocv1_ocv'], df_raw['judge'])\n",
    "\n",
    "# 카이제곱 검정을 수행합니다.\n",
    "chi2, p, _, _ = chi2_contingency(cross_tab)\n",
    "\n",
    "# 결과 출력\n",
    "print(f\"Chi-Square Value: {chi2}\")\n",
    "print(f\"P-value: {p}\")\n",
    "\n",
    "# 유의수준 0.05에서의 검정 결과를 해석합니다.\n",
    "alpha = 0.05\n",
    "if p < alpha:\n",
    "    print(\"귀무가설을 기각합니다. 'ocv1_ocv'와 'judge'는 관련이 있습니다.\")\n",
    "else:\n",
    "    print(\"귀무가설을 기각하지 못합니다. 'ocv1_ocv'와 'judge'는 관련이 없습니다.\")"
   ]
  },
  {
   "cell_type": "code",
   "execution_count": 25,
   "id": "bfc1ac45",
   "metadata": {},
   "outputs": [
    {
     "name": "stdout",
     "output_type": "stream",
     "text": [
      "Chi-Square Value: 147.32756204054837\n",
      "P-value: 4.21678020798118e-15\n",
      "귀무가설을 기각합니다. 'c1_voltage_avg'와 'judge'는 관련이 있습니다.\n"
     ]
    }
   ],
   "source": [
    "from scipy.stats import chi2_contingency\n",
    "\n",
    "# df_c1 데이터프레임에서 'c1_temp_avg'와 'judge' 열을 교차표로 만듭니다.\n",
    "cross_tab = pd.crosstab(df_raw['c1_voltage_avg'], df_raw['judge'])\n",
    "\n",
    "# 카이제곱 검정을 수행합니다.\n",
    "chi2, p, _, _ = chi2_contingency(cross_tab)\n",
    "\n",
    "# 결과 출력\n",
    "print(f\"Chi-Square Value: {chi2}\")\n",
    "print(f\"P-value: {p}\")\n",
    "\n",
    "# 유의수준 0.05에서의 검정 결과를 해석합니다.\n",
    "alpha = 0.05\n",
    "if p < alpha:\n",
    "    print(\"귀무가설을 기각합니다. 'c1_voltage_avg'와 'judge'는 관련이 있습니다.\")\n",
    "else:\n",
    "    print(\"귀무가설을 기각하지 못합니다. 'c1_voltage_avg'와 'judge'는 관련이 없습니다.\")"
   ]
  },
  {
   "cell_type": "code",
   "execution_count": 27,
   "id": "9a308db7",
   "metadata": {},
   "outputs": [
    {
     "name": "stdout",
     "output_type": "stream",
     "text": [
      "Chi-Square Value: 1119.3357192905682\n",
      "P-value: 3.189110470181389e-185\n",
      "귀무가설을 기각합니다. 'dc1_voltage_avg'와 'judge'는 관련이 있습니다.\n"
     ]
    }
   ],
   "source": [
    "from scipy.stats import chi2_contingency\n",
    "\n",
    "# df_c1 데이터프레임에서 'c1_temp_avg'와 'judge' 열을 교차표로 만듭니다.\n",
    "cross_tab = pd.crosstab(df_raw['dc1_voltage_avg'], df_raw['judge'])\n",
    "\n",
    "# 카이제곱 검정을 수행합니다.\n",
    "chi2, p, _, _ = chi2_contingency(cross_tab)\n",
    "\n",
    "# 결과 출력\n",
    "print(f\"Chi-Square Value: {chi2}\")\n",
    "print(f\"P-value: {p}\")\n",
    "\n",
    "# 유의수준 0.05에서의 검정 결과를 해석합니다.\n",
    "alpha = 0.05\n",
    "if p < alpha:\n",
    "    print(\"귀무가설을 기각합니다. 'dc1_voltage_avg'와 'judge'는 관련이 있습니다.\")\n",
    "else:\n",
    "    print(\"귀무가설을 기각하지 못합니다. 'dc1_voltage_avg'와 'judge'는 관련이 없습니다.\")"
   ]
  },
  {
   "cell_type": "code",
   "execution_count": 30,
   "id": "c0424714",
   "metadata": {},
   "outputs": [
    {
     "name": "stdout",
     "output_type": "stream",
     "text": [
      "Chi-Square Value: 288.27528126930355\n",
      "P-value: 2.940964516422602e-51\n",
      "귀무가설을 기각합니다. 'c2_voltage_avg'와 'judge'는 관련이 있습니다.\n"
     ]
    }
   ],
   "source": [
    "from scipy.stats import chi2_contingency\n",
    "\n",
    "# df_c1 데이터프레임에서 'c1_temp_avg'와 'judge' 열을 교차표로 만듭니다.\n",
    "cross_tab = pd.crosstab(df_raw['c2_voltage_avg'], df_raw['judge'])\n",
    "\n",
    "# 카이제곱 검정을 수행합니다.\n",
    "chi2, p, _, _ = chi2_contingency(cross_tab)\n",
    "\n",
    "# 결과 출력\n",
    "print(f\"Chi-Square Value: {chi2}\")\n",
    "print(f\"P-value: {p}\")\n",
    "\n",
    "# 유의수준 0.05에서의 검정 결과를 해석합니다.\n",
    "alpha = 0.05\n",
    "if p < alpha:\n",
    "    print(\"귀무가설을 기각합니다. 'c2_voltage_avg'와 'judge'는 관련이 있습니다.\")\n",
    "else:\n",
    "    print(\"귀무가설을 기각하지 못합니다. 'c2_voltage_avg'와 'judge'는 관련이 없습니다.\")"
   ]
  },
  {
   "cell_type": "code",
   "execution_count": 32,
   "id": "801e464a",
   "metadata": {},
   "outputs": [
    {
     "name": "stdout",
     "output_type": "stream",
     "text": [
      "Chi-Square Value: 1712.0284047650332\n",
      "P-value: 0.0\n",
      "귀무가설을 기각합니다. 'dc2_voltage_avg'와 'judge'는 관련이 있습니다.\n"
     ]
    }
   ],
   "source": [
    "from scipy.stats import chi2_contingency\n",
    "\n",
    "# df_c1 데이터프레임에서 'c1_temp_avg'와 'judge' 열을 교차표로 만듭니다.\n",
    "cross_tab = pd.crosstab(df_raw['dc2_voltage_avg'], df_raw['judge'])\n",
    "\n",
    "# 카이제곱 검정을 수행합니다.\n",
    "chi2, p, _, _ = chi2_contingency(cross_tab)\n",
    "\n",
    "# 결과 출력\n",
    "print(f\"Chi-Square Value: {chi2}\")\n",
    "print(f\"P-value: {p}\")\n",
    "\n",
    "# 유의수준 0.05에서의 검정 결과를 해석합니다.\n",
    "alpha = 0.05\n",
    "if p < alpha:\n",
    "    print(\"귀무가설을 기각합니다. 'dc2_voltage_avg'와 'judge'는 관련이 있습니다.\")\n",
    "else:\n",
    "    print(\"귀무가설을 기각하지 못합니다. 'dc2_voltage_avg'와 'judge'는 관련이 없습니다.\")"
   ]
  },
  {
   "cell_type": "code",
   "execution_count": 33,
   "id": "d28fb1ec",
   "metadata": {},
   "outputs": [
    {
     "name": "stdout",
     "output_type": "stream",
     "text": [
      "Chi-Square Value: 401.1875397347598\n",
      "P-value: 7.127302728090908e-77\n",
      "귀무가설을 기각합니다. 'c3_voltage_avg'와 'judge'는 관련이 있습니다.\n"
     ]
    }
   ],
   "source": [
    "from scipy.stats import chi2_contingency\n",
    "\n",
    "# df_c1 데이터프레임에서 'c1_temp_avg'와 'judge' 열을 교차표로 만듭니다.\n",
    "cross_tab = pd.crosstab(df_raw['c3_voltage_avg'], df_raw['judge'])\n",
    "\n",
    "# 카이제곱 검정을 수행합니다.\n",
    "chi2, p, _, _ = chi2_contingency(cross_tab)\n",
    "\n",
    "# 결과 출력\n",
    "print(f\"Chi-Square Value: {chi2}\")\n",
    "print(f\"P-value: {p}\")\n",
    "\n",
    "# 유의수준 0.05에서의 검정 결과를 해석합니다.\n",
    "alpha = 0.05\n",
    "if p < alpha:\n",
    "    print(\"귀무가설을 기각합니다. 'c3_voltage_avg'와 'judge'는 관련이 있습니다.\")\n",
    "else:\n",
    "    print(\"귀무가설을 기각하지 못합니다. 'c3_voltage_avg'와 'judge'는 관련이 없습니다.\")"
   ]
  },
  {
   "cell_type": "code",
   "execution_count": 34,
   "id": "88e13790",
   "metadata": {},
   "outputs": [
    {
     "name": "stdout",
     "output_type": "stream",
     "text": [
      "Chi-Square Value: 374.85132921259003\n",
      "P-value: 1.7506434844946433e-57\n",
      "귀무가설을 기각합니다. 'dc3_voltage_avg'와 'judge'는 관련이 있습니다.\n"
     ]
    }
   ],
   "source": [
    "from scipy.stats import chi2_contingency\n",
    "\n",
    "# df_c1 데이터프레임에서 'c1_temp_avg'와 'judge' 열을 교차표로 만듭니다.\n",
    "cross_tab = pd.crosstab(df_raw['dc3_voltage_avg'], df_raw['judge'])\n",
    "\n",
    "# 카이제곱 검정을 수행합니다.\n",
    "chi2, p, _, _ = chi2_contingency(cross_tab)\n",
    "\n",
    "# 결과 출력\n",
    "print(f\"Chi-Square Value: {chi2}\")\n",
    "print(f\"P-value: {p}\")\n",
    "\n",
    "# 유의수준 0.05에서의 검정 결과를 해석합니다.\n",
    "alpha = 0.05\n",
    "if p < alpha:\n",
    "    print(\"귀무가설을 기각합니다. 'dc3_voltage_avg'와 'judge'는 관련이 있습니다.\")\n",
    "else:\n",
    "    print(\"귀무가설을 기각하지 못합니다. 'dc3_voltage_avg'와 'judge'는 관련이 없습니다.\")"
   ]
  },
  {
   "cell_type": "code",
   "execution_count": 35,
   "id": "ee8e37ed",
   "metadata": {},
   "outputs": [
    {
     "name": "stdout",
     "output_type": "stream",
     "text": [
      "Chi-Square Value: 420.0825492428618\n",
      "P-value: 2.173061489030606e-53\n",
      "귀무가설을 기각합니다. 'c4_voltage_avg'와 'judge'는 관련이 있습니다.\n"
     ]
    }
   ],
   "source": [
    "from scipy.stats import chi2_contingency\n",
    "\n",
    "# df_c1 데이터프레임에서 'c1_temp_avg'와 'judge' 열을 교차표로 만듭니다.\n",
    "cross_tab = pd.crosstab(df_raw['c4_voltage_avg'], df_raw['judge'])\n",
    "\n",
    "# 카이제곱 검정을 수행합니다.\n",
    "chi2, p, _, _ = chi2_contingency(cross_tab)\n",
    "\n",
    "# 결과 출력\n",
    "print(f\"Chi-Square Value: {chi2}\")\n",
    "print(f\"P-value: {p}\")\n",
    "\n",
    "# 유의수준 0.05에서의 검정 결과를 해석합니다.\n",
    "alpha = 0.05\n",
    "if p < alpha:\n",
    "    print(\"귀무가설을 기각합니다. 'c4_voltage_avg'와 'judge'는 관련이 있습니다.\")\n",
    "else:\n",
    "    print(\"귀무가설을 기각하지 못합니다. 'c4_voltage_avg'와 'judge'는 관련이 없습니다.\")"
   ]
  },
  {
   "cell_type": "code",
   "execution_count": 36,
   "id": "b3b81684",
   "metadata": {},
   "outputs": [
    {
     "name": "stdout",
     "output_type": "stream",
     "text": [
      "Chi-Square Value: 67.91378693065592\n",
      "P-value: 3.8996562500341293e-11\n",
      "귀무가설을 기각합니다. 'ocv2_ocv'와 'judge'는 관련이 있습니다.\n"
     ]
    }
   ],
   "source": [
    "from scipy.stats import chi2_contingency\n",
    "\n",
    "# df_c1 데이터프레임에서 'c1_temp_avg'와 'judge' 열을 교차표로 만듭니다.\n",
    "cross_tab = pd.crosstab(df_raw['ocv2_ocv'], df_raw['judge'])\n",
    "\n",
    "# 카이제곱 검정을 수행합니다.\n",
    "chi2, p, _, _ = chi2_contingency(cross_tab)\n",
    "\n",
    "# 결과 출력\n",
    "print(f\"Chi-Square Value: {chi2}\")\n",
    "print(f\"P-value: {p}\")\n",
    "\n",
    "# 유의수준 0.05에서의 검정 결과를 해석합니다.\n",
    "alpha = 0.05\n",
    "if p < alpha:\n",
    "    print(\"귀무가설을 기각합니다. 'ocv2_ocv'와 'judge'는 관련이 있습니다.\")\n",
    "else:\n",
    "    print(\"귀무가설을 기각하지 못합니다. 'ocv2_ocv'와 'judge'는 관련이 없습니다.\")"
   ]
  },
  {
   "cell_type": "code",
   "execution_count": 38,
   "id": "ebedfc30",
   "metadata": {},
   "outputs": [
    {
     "name": "stdout",
     "output_type": "stream",
     "text": [
      "            Feature  Chi-Square Value        P-value  \\\n",
      "0   dc2_voltage_avg       1712.028405   0.000000e+00   \n",
      "1      pg1_temp_avg        561.347459   1.633648e-84   \n",
      "2          c3_cvval       1523.653339  1.702157e-232   \n",
      "3      dc3_temp_avg       3444.571490   0.000000e+00   \n",
      "4           pg1_imp       1616.576598  2.146724e-175   \n",
      "5       c1_temp_avg       3704.345492   0.000000e+00   \n",
      "6       c3_temp_avg       3708.905187   0.000000e+00   \n",
      "7       dc2_capafit       2949.526118   0.000000e+00   \n",
      "8           pc1_imp        951.795572   5.405366e-81   \n",
      "9         m1_res_ac        541.452078  2.258141e-107   \n",
      "10      c2_temp_avg       4001.088298   0.000000e+00   \n",
      "11     dc2_temp_avg       3798.277736   0.000000e+00   \n",
      "12     dc1_temp_avg       3968.864600   0.000000e+00   \n",
      "13      c4_temp_avg       3648.508044   0.000000e+00   \n",
      "\n",
      "                              Result  \n",
      "0   Reject Null Hypothesis (Related)  \n",
      "1   Reject Null Hypothesis (Related)  \n",
      "2   Reject Null Hypothesis (Related)  \n",
      "3   Reject Null Hypothesis (Related)  \n",
      "4   Reject Null Hypothesis (Related)  \n",
      "5   Reject Null Hypothesis (Related)  \n",
      "6   Reject Null Hypothesis (Related)  \n",
      "7   Reject Null Hypothesis (Related)  \n",
      "8   Reject Null Hypothesis (Related)  \n",
      "9   Reject Null Hypothesis (Related)  \n",
      "10  Reject Null Hypothesis (Related)  \n",
      "11  Reject Null Hypothesis (Related)  \n",
      "12  Reject Null Hypothesis (Related)  \n",
      "13  Reject Null Hypothesis (Related)  \n"
     ]
    }
   ],
   "source": [
    "import pandas as pd\n",
    "from scipy.stats import chi2_contingency\n",
    "\n",
    "# 필요한 열만 선택\n",
    "columns_to_test = ['pg1_impfit','dc2_voltage_avg','pg1_temp_avg','c3_cvval','dc3_temp_avg','pg1_imp','c1_temp_avg','c3_temp_avg','dc2_capafit','pc1_imp','m1_res_ac','c2_temp_avg','dc2_temp_avg','dc1_temp_avg','c4_temp_avg']\n",
    "\n",
    "# 결과 저장할 데이터프레임 생성\n",
    "result_df = pd.DataFrame(columns=['Feature', 'Chi-Square Value', 'P-value', 'Result'])\n",
    "\n",
    "# 각 열과 'judge' 열 간의 카이제곱 검정 수행\n",
    "for feature in columns_to_test[1:]:\n",
    "    observed = pd.crosstab(df_raw['judge'], df_raw[feature])\n",
    "    chi2, p, _, _ = chi2_contingency(observed)\n",
    "    \n",
    "    # 결과를 데이터프레임에 추가\n",
    "    if p < 0.05:\n",
    "        result = 'Reject Null Hypothesis (Related)'\n",
    "    else:\n",
    "        result = 'Fail to Reject Null Hypothesis (Unrelated)'\n",
    "    \n",
    "    result_df = result_df.append({'Feature': feature, 'Chi-Square Value': chi2, 'P-value': p, 'Result': result}, ignore_index=True)\n",
    "\n",
    "# 결과를 출력\n",
    "print(result_df)\n"
   ]
  },
  {
   "cell_type": "code",
   "execution_count": null,
   "id": "2f838288",
   "metadata": {},
   "outputs": [],
   "source": []
  }
 ],
 "metadata": {
  "kernelspec": {
   "display_name": "Python 3 (ipykernel)",
   "language": "python",
   "name": "python3"
  },
  "language_info": {
   "codemirror_mode": {
    "name": "ipython",
    "version": 3
   },
   "file_extension": ".py",
   "mimetype": "text/x-python",
   "name": "python",
   "nbconvert_exporter": "python",
   "pygments_lexer": "ipython3",
   "version": "3.10.9"
  }
 },
 "nbformat": 4,
 "nbformat_minor": 5
}
